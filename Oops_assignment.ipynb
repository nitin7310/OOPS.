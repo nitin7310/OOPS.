{
  "nbformat": 4,
  "nbformat_minor": 0,
  "metadata": {
    "colab": {
      "provenance": []
    },
    "kernelspec": {
      "name": "python3",
      "display_name": "Python 3"
    },
    "language_info": {
      "name": "python"
    }
  },
  "cells": [
    {
      "cell_type": "markdown",
      "source": [
        "#OOPS\n",
        "\n",
        "1.What is Object-Oriented Programming (OOP)?\n",
        "\n",
        "  -> Object-Oriented Programming (OOP) is a programming paradigm that\n",
        "     organizes code into reusable and modular structures called \"objects.\" These objects represent real-world entities or concepts and combine data (attributes) and behavior (methods) into a single unit.\n",
        "\n",
        "2.What is a class in OOP?\n",
        "\n",
        "  -> In Object-Oriented Programming (OOP), a class is a blueprint or template\n",
        "     for creating objects. It defines the structure and behavior of the objects, including their attributes (data) and methods (functions). A class encapsulates related variables and functions into a single entity, making it easier to create and manage objects.\n",
        "\n",
        "\n",
        "3.What is an object in OOP?\n",
        "\n",
        "  -> In Object-Oriented Programming (OOP), an object is an instance of a class.\n",
        "     A class serves as a blueprint, and the object is the specific realization of that blueprint. Think of a class as a cookie cutter, and the objects as the cookies made using it.\n",
        "\n",
        "4.What is the difference between abstraction and encapsulation\n",
        "\n",
        "  ->1. Abstraction\n",
        "\n",
        "      Focus: Hides the implementation details and shows only the essential features or functionality of an object.\n",
        "\n",
        "      Purpose: Simplifies complexity by providing a high-level overview of the object.\n",
        "\n",
        "      How It's Achieved:\n",
        "\n",
        "      Achieved using abstract classes and interfaces (in languages that support them).\n",
        "\n",
        "      For example, an abstract method provides the \"what to do\" but not the \"how to do\".\n",
        "\n",
        "  2.Encapsulation\n",
        "\n",
        "      Focus: Protects data by bundling it with the methods that operate on it, and restricts direct access to some of the object's components.\n",
        "\n",
        "      Purpose: Ensures data security and prevents unauthorized access or modification.\n",
        "\n",
        "      How It's Achieved:\n",
        "\n",
        "      Achieved by making attributes private (__attribute) and providing getter and setter methods to access and modify them.\n",
        "\n",
        "      Encapsulation enforces controlled access to the internal state of an object.\n",
        "\n",
        "\n",
        "5.What are dunder methods in Python?\n",
        "\n",
        "  -> Dunder methods (short for \"double underscore methods\") in Python are\n",
        "        special methods that have double underscores (or \"dunders\") at the beginning and end of their names, such as __init__, __str__, and __add__. They are also known as magic methods or special methods and are used to define the behavior of objects and their interaction with built-in operations and functions.\n",
        "\n",
        "\n",
        "6.Explain the concept of inheritance in OOP\n",
        "\n",
        "  -> Inheritance is a fundamental concept in Object-Oriented Programming (OOP) that allows one class (called the child class or subclass) to inherit the properties and methods of another class (called the parent class or base class). This enables code reuse, logical organization, and the ability to build more specific features on top of existing functionality.\n",
        "\n",
        "\n",
        "7.What is polymorphism in OOP?\n",
        "\n",
        "  -> Polymorphism is a core concept in Object-Oriented Programming (OOP) that allows objects of different classes to be treated as objects of a common parent class. The term \"polymorphism\" means \"many forms,\" and in programming, it refers to the ability of a single interface to represent different underlying data types or behaviors\n",
        "\n",
        "\n",
        "8.How is encapsulation achieved in Python?\n",
        "\n",
        " -> Encapsulation in Python is achieved by restricting direct access to an object's attributes (data) and allowing controlled access through methods. This is done by making attributes private and providing public methods (getters and setters) to interact with them.\n",
        "\n",
        "\n",
        "9.What is a constructor in Python?\n",
        "\n",
        "  -> In Python, a constructor is a special method used to initialize an object when it is created. It is called automatically when an instance of a class is created and typically initializes the object's attributes to their default or provided values.\n",
        "\n",
        "\n",
        "10.What are class and static methods in Python?\n",
        "\n",
        "  -> 1. Class Methods\n",
        "\n",
        "        Definition: A class method is a method that works with the class itself rather than an instance of the class. It is bound to the class and not the instance.\n",
        "\n",
        "  2.Static Methods\n",
        "\n",
        "       Definition: A static method is a method that does not depend on the class or an instance. It cannot modify or access class or instance-specific data and behaves like a regular function but belongs to a class.\n",
        "\n",
        "\n",
        "11.What is method overloading in Python?\n",
        "\n",
        "  -> Method overloading in general programming refers to the ability to define multiple methods in a class with the same name but different parameter lists (e.g., differing in the number or type of arguments). However, Python does not natively support method overloading in the traditional sense because it allows only one method with a given name per class. If multiple methods with the same name are defined, the most recently defined one will overwrite the previous ones.\n",
        "\n",
        "\n",
        "12.What is method overriding in OOPS?\n",
        "\n",
        "  -> Method overriding in Object-Oriented Programming (OOP) is a concept where a child class provides its own implementation of a method that is already defined in its parent class. The overridden method in the child class has the same name, parameters, and return type as the method in the parent class\n",
        "\n",
        "\n",
        "13.What is a property decorator in Python?\n",
        "\n",
        "  -> The property decorator in Python is a built-in feature that allows you to define methods that behave like attributes. This enables you to customize access to an attribute while keeping the syntax of accessing it simple and intuitive, just like accessing a regular attribute. It's primarily used for encapsulation and creating read-only or computed properties.\n",
        "\n",
        "14.Why is polymorphism important in OOP\n",
        "\n",
        "  -> Polymorphism is a cornerstone of Object-Oriented Programming (OOP) because it enhances the flexibility, scalability, and maintainability of code. Its significance stems from its ability to allow objects of different classes to be treated as objects of a common parent class. Here’s why polymorphism is so important\n",
        "\n",
        "\n",
        "15.What is an abstract class in Python\n",
        "\n",
        "  ->An abstract class in Python is a class that cannot be instantiated directly and is meant to serve as a blueprint for other classes. Abstract classes define a common interface and can include one or more abstract methods that must be implemented by derived (child) classes. They are often used to enforce a certain structure or behavior in subclasses, promoting consistency and code reusability.\n",
        "\n",
        "18.What is multiple inheritance in Python\n",
        "\n",
        "  -> Multiple inheritance in Python is a feature that allows a class to inherit from more than one parent class. This means a child class can derive attributes and methods from multiple base classes, enabling the reuse of functionality from multiple sources.\n",
        "\n",
        "\n",
        "24.What is method chaining in Python OOP?\n",
        "\n",
        "  -> Method chaining in Python is a technique in Object-Oriented Programming (OOP) where multiple methods are called on the same object in a single statement. It enables a more concise and readable coding style by linking method calls together, one after the other. For this to work, each method in the chain must return the same object (often by returning self).\n"
      ],
      "metadata": {
        "id": "_8ED7aLt-utt"
      }
    },
    {
      "cell_type": "code",
      "execution_count": 2,
      "metadata": {
        "colab": {
          "base_uri": "https://localhost:8080/"
        },
        "id": "WPj4AH1ANJMa",
        "outputId": "ec83f5f5-3e4b-4378-fa68-84b56f191e15"
      },
      "outputs": [
        {
          "output_type": "stream",
          "name": "stdout",
          "text": [
            "This is a generic animal sound.\n",
            "Bark!\n"
          ]
        }
      ],
      "source": [
        "# 1.  Create a parent class Animal with a method speak() that prints a generic message. Create a child class Dog\n",
        "#     that overrides the speak() method to print \"Bark!\"\n",
        "\n",
        "class Animal:\n",
        "    def speak(self):\n",
        "        print(\"This is a generic animal sound.\")\n",
        "\n",
        "class Dog(Animal):\n",
        "    def speak(self):\n",
        "        print(\"Bark!\")\n",
        "\n",
        "# Example usage\n",
        "animal = Animal()\n",
        "animal.speak()\n",
        "\n",
        "dog = Dog()\n",
        "dog.speak()"
      ]
    },
    {
      "cell_type": "code",
      "source": [
        "# 2. Write a program to create an abstract class Shape with a method area(). Derive classes Circle and Rectangle\n",
        "#    from it and implement the area() method in both\n",
        "\n",
        "from abc import ABC, abstractmethod\n",
        "\n",
        "class Shape(ABC):\n",
        "    @abstractmethod\n",
        "    def area(self):\n",
        "        pass"
      ],
      "metadata": {
        "id": "ZQKfBqMPOnTO"
      },
      "execution_count": 3,
      "outputs": []
    },
    {
      "cell_type": "code",
      "source": [
        "# 3. Implement a multi-level inheritance scenario where a class Vehicle has an attribute type. Derive a class Car and further derive a class ElectricCar that adds a battery attribute\n",
        "\n",
        "\n",
        "# Base class\n",
        "class Vehicle:\n",
        "    def __init__(self, vehicle_type):\n",
        "        self.vehicle_type = vehicle_type\n",
        "\n",
        "    def display_info(self):\n",
        "        print(f\"Vehicle Type: {self.vehicle_type}\")\n",
        "\n",
        "# Derived class\n",
        "class Car(Vehicle):\n",
        "    def __init__(self, vehicle_type, brand):\n",
        "        super().__init__(vehicle_type)\n",
        "        self.brand = brand\n",
        "\n",
        "    def display_info(self):\n",
        "        super().display_info()\n",
        "        print(f\"Brand: {self.brand}\")\n",
        "\n",
        "# Further derived class\n",
        "class ElectricCar(Car):\n",
        "    def __init__(self, vehicle_type, brand, battery_capacity):\n",
        "        super().__init__(vehicle_type, brand)\n",
        "        self.battery_capacity = battery_capacity\n",
        "\n",
        "    def display_info(self):\n",
        "        super().display_info()\n",
        "        print(f\"Battery Capacity: {self.battery_capacity} kWh\")\n",
        "\n",
        "# Example usage\n",
        "my_vehicle = Vehicle(\"General\")\n",
        "my_vehicle.display_info()\n",
        "\n",
        "print(\"\\n\")\n",
        "\n",
        "my_car = Car(\"Car\", \"Toyota\")\n",
        "my_car.display_info()\n",
        "\n",
        "print(\"\\n\")\n",
        "\n",
        "my_electric_car = ElectricCar(\"Electric Car\", \"Tesla\", 75)\n",
        "my_electric_car.display_info()\n",
        "\n"
      ],
      "metadata": {
        "colab": {
          "base_uri": "https://localhost:8080/"
        },
        "id": "pnU0GR8BOsit",
        "outputId": "e970585c-9010-4a06-899b-0da5ef9bf87c"
      },
      "execution_count": 3,
      "outputs": [
        {
          "output_type": "stream",
          "name": "stdout",
          "text": [
            "Vehicle Type: General\n",
            "\n",
            "\n",
            "Vehicle Type: Car\n",
            "Brand: Toyota\n",
            "\n",
            "\n",
            "Vehicle Type: Electric Car\n",
            "Brand: Tesla\n",
            "Battery Capacity: 75 kWh\n"
          ]
        }
      ]
    },
    {
      "cell_type": "code",
      "source": [
        "# 4.  Demonstrate polymorphism by creating a base class Bird with a method fly(). Create two derived classes\n",
        "#     Sparrow and Penguin that override the fly() method\n",
        "\n",
        "class Bird:\n",
        "    def fly(self):\n",
        "        print(\"Some birds can fly.\")\n",
        "\n",
        "class Sparrow(Bird):\n",
        "    def fly(self):\n",
        "        print(\"Sparrow: I can fly high in the sky!\")\n",
        "\n",
        "class Penguin(Bird):\n",
        "    def fly(self):\n",
        "        print(\"Penguin: Sorry, I cannot fly but I can swim well!\")\n",
        "\n",
        "# Demonstrating polymorphism\n",
        "def demonstrate_fly(bird):\n",
        "    bird.fly()\n",
        "\n",
        "# Create instances of Sparrow and Penguin\n",
        "sparrow = Sparrow()\n",
        "penguin = Penguin()\n",
        "\n",
        "# Pass objects to the demonstrate_fly function\n",
        "demonstrate_fly(sparrow)\n",
        "demonstrate_fly(penguin)\n"
      ],
      "metadata": {
        "colab": {
          "base_uri": "https://localhost:8080/"
        },
        "id": "jnVMvnFn4hOH",
        "outputId": "151ed462-df21-4f6c-8dc5-04a6378554cc"
      },
      "execution_count": 5,
      "outputs": [
        {
          "output_type": "stream",
          "name": "stdout",
          "text": [
            "Sparrow: I can fly high in the sky!\n",
            "Penguin: Sorry, I cannot fly but I can swim well!\n"
          ]
        }
      ]
    },
    {
      "cell_type": "code",
      "source": [
        "# 5. Write a program to demonstrate encapsulation by creating a class BankAccount with private attributes\n",
        "#    balance and methods to deposit, withdraw, and check balance\n",
        "\n",
        "class BankAccount:\n",
        "    def __init__(self, initial_balance=0):\n",
        "        self.__balance = initial_balance  # Private attribute\n",
        "\n",
        "    def deposit(self, amount):\n",
        "        if amount > 0:\n",
        "            self.__balance += amount\n",
        "            print(f\"Deposited: {amount}. New balance is {self.__balance}\")\n",
        "        else:\n",
        "            print(\"Invalid deposit amount.\")\n",
        "\n",
        "    def withdraw(self, amount):\n",
        "        if 0 < amount <= self.__balance:\n",
        "            self.__balance -= amount\n",
        "            print(f\"Withdrew: {amount}. Remaining balance is {self.__balance}\")\n",
        "        else:\n",
        "            print(\"Invalid withdrawal amount or insufficient funds.\")\n",
        "\n",
        "    def check_balance(self):\n",
        "        print(f\"Your current balance is: {self.__balance}\")\n",
        "\n",
        "# Example usage of the BankAccount class\n",
        "my_account = BankAccount(1000)  # Initial balance is 1000\n",
        "my_account.check_balance()\n",
        "\n",
        "my_account.deposit(500)  # Deposit 500\n",
        "my_account.withdraw(300)  # Withdraw 300\n",
        "my_account.check_balance()  # Check the final balance\n"
      ],
      "metadata": {
        "colab": {
          "base_uri": "https://localhost:8080/"
        },
        "id": "wMAB-7PU5Ih_",
        "outputId": "4add4e22-c50e-40c4-be3c-6023070b0a76"
      },
      "execution_count": 7,
      "outputs": [
        {
          "output_type": "stream",
          "name": "stdout",
          "text": [
            "Your current balance is: 1000\n",
            "Deposited: 500. New balance is 1500\n",
            "Withdrew: 300. Remaining balance is 1200\n",
            "Your current balance is: 1200\n"
          ]
        }
      ]
    },
    {
      "cell_type": "code",
      "source": [
        "# 6.  Demonstrate runtime polymorphism using a method play() in a base class Instrument. Derive classes Guitar\n",
        "#      and Piano that implement their own version of play().\n",
        "\n",
        "class Instrument:\n",
        "    def play(self):\n",
        "        print(\"An instrument is being played.\")\n",
        "\n",
        "class Guitar(Instrument):\n",
        "    def play(self):\n",
        "        print(\"Playing the Guitar: Strum strum!\")\n",
        "\n",
        "class Piano(Instrument):\n",
        "    def play(self):\n",
        "        print(\"Playing the Piano: Tinkle tinkle!\")\n",
        "\n",
        "# Function to demonstrate runtime polymorphism\n",
        "def perform(instrument):\n",
        "    instrument.play()\n",
        "\n",
        "# Creating instances of Guitar and Piano\n",
        "guitar = Guitar()\n",
        "piano = Piano()\n",
        "\n",
        "# Demonstrating runtime polymorphism\n",
        "perform(guitar)  # Calls the play method of Guitar\n",
        "perform(piano)   # Calls the play method of Piano\n"
      ],
      "metadata": {
        "colab": {
          "base_uri": "https://localhost:8080/"
        },
        "id": "3HTQsLv85jHZ",
        "outputId": "7ccc4c8c-e519-4f79-93b0-1673fb6c3067"
      },
      "execution_count": 9,
      "outputs": [
        {
          "output_type": "stream",
          "name": "stdout",
          "text": [
            "Playing the Guitar: Strum strum!\n",
            "Playing the Piano: Tinkle tinkle!\n"
          ]
        }
      ]
    },
    {
      "cell_type": "code",
      "source": [
        "# 7. Create a class MathOperations with a class method add_numbers() to add two numbers and a static\n",
        "#    method subtract_numbers() to subtract two numbers\n",
        "\n",
        "class MathOperations:\n",
        "    @classmethod\n",
        "    def add_numbers(cls, a, b):\n",
        "        return a + b\n",
        "\n",
        "    @staticmethod\n",
        "    def subtract_numbers(a, b):\n",
        "        return a - b\n",
        "\n",
        "# Example usage\n",
        "result_addition = MathOperations.add_numbers(10, 5)  # Using the class method\n",
        "result_subtraction = MathOperations.subtract_numbers(10, 5)  # Using the static method\n",
        "\n",
        "print(f\"Addition Result: {result_addition}\")\n",
        "print(f\"Subtraction Result: {result_subtraction}\")\n"
      ],
      "metadata": {
        "colab": {
          "base_uri": "https://localhost:8080/"
        },
        "id": "8Rq5WD-_500f",
        "outputId": "a42f4999-7ee1-4a57-9c33-2da201ee5b67"
      },
      "execution_count": 11,
      "outputs": [
        {
          "output_type": "stream",
          "name": "stdout",
          "text": [
            "Addition Result: 15\n",
            "Subtraction Result: 5\n"
          ]
        }
      ]
    },
    {
      "cell_type": "code",
      "source": [
        "# 8.  Implement a class Person with a class method to count the total number of persons created\n",
        "\n",
        "class Person:\n",
        "    # Class variable to keep track of the count\n",
        "    count = 0\n",
        "\n",
        "    def __init__(self, name):\n",
        "        self.name = name\n",
        "        Person.count += 1  # Increment the count when a new instance is created\n",
        "\n",
        "    @classmethod\n",
        "    def total_persons(cls):\n",
        "        return cls.count  # Access the class variable using cls\n",
        "\n",
        "# Create instances of Person\n",
        "person1 = Person(\"Alice\")\n",
        "person2 = Person(\"Bob\")\n",
        "person3 = Person(\"Charlie\")\n",
        "\n",
        "# Use the class method to get the total number of persons created\n",
        "print(f\"Total number of persons created: {Person.total_persons()}\")\n"
      ],
      "metadata": {
        "colab": {
          "base_uri": "https://localhost:8080/"
        },
        "id": "VrXQHYsU6MyW",
        "outputId": "47af7129-daca-41d1-a5a3-ced6df5eb3be"
      },
      "execution_count": 14,
      "outputs": [
        {
          "output_type": "stream",
          "name": "stdout",
          "text": [
            "Total number of persons created: 3\n"
          ]
        }
      ]
    },
    {
      "cell_type": "code",
      "source": [
        "# 9.  Write a class Fraction with attributes numerator and denominator. Override the str method to display the fraction as \"numerator/denominator\".\n",
        "\n",
        "class Fraction:\n",
        "    def __init__(self, numerator, denominator):\n",
        "        self.numerator = numerator\n",
        "        self.denominator = denominator\n",
        "\n",
        "    def __str__(self):\n",
        "        return f\"{self.numerator}/{self.denominator}\"\n",
        "\n",
        "# Example usage\n",
        "fraction1 = Fraction(3, 4)\n",
        "fraction2 = Fraction(5, 8)\n",
        "\n",
        "print(fraction1)  # Output: 3/4\n",
        "print(fraction2)  # Output: 5/8\n"
      ],
      "metadata": {
        "colab": {
          "base_uri": "https://localhost:8080/"
        },
        "id": "i0lolvyA7YE0",
        "outputId": "ca620798-e907-4376-cc53-a4efa47b2472"
      },
      "execution_count": 17,
      "outputs": [
        {
          "output_type": "stream",
          "name": "stdout",
          "text": [
            "3/4\n",
            "5/8\n"
          ]
        }
      ]
    },
    {
      "cell_type": "code",
      "source": [
        "# 10.  Demonstrate operator overloading by creating a class Vector and overriding the add method to add two vectors.\n",
        "\n",
        "class Vector:\n",
        "    def __init__(self, x, y):\n",
        "        self.x = x\n",
        "        self.y = y\n",
        "\n",
        "    def __add__(self, other):\n",
        "        if isinstance(other, Vector):\n",
        "            return Vector(self.x + other.x, self.y + other.y)\n",
        "        else:\n",
        "            raise TypeError(\"Operands must be of type Vector\")\n",
        "\n",
        "    def __str__(self):\n",
        "        return f\"({self.x}, {self.y})\"\n",
        "\n",
        "# Example usage\n",
        "vector1 = Vector(2, 3)\n",
        "vector2 = Vector(4, 5)\n",
        "\n",
        "# Adding two vectors using the overloaded + operator\n",
        "result = vector1 + vector2\n",
        "\n",
        "print(f\"Vector 1: {vector1}\")\n",
        "print(f\"Vector 2: {vector2}\")\n",
        "print(f\"Result (Vector 1 + Vector 2): {result}\")\n",
        "\n",
        "\n",
        "\n"
      ],
      "metadata": {
        "colab": {
          "base_uri": "https://localhost:8080/"
        },
        "id": "FIEzbUEZ7tPh",
        "outputId": "4e4583df-8aca-4618-bbd2-7694d43ec63b"
      },
      "execution_count": 20,
      "outputs": [
        {
          "output_type": "stream",
          "name": "stdout",
          "text": [
            "Vector 1: (2, 3)\n",
            "Vector 2: (4, 5)\n",
            "Result (Vector 1 + Vector 2): (6, 8)\n"
          ]
        }
      ]
    },
    {
      "cell_type": "code",
      "source": [
        "# 11.Create a class Person with attributes name and age. Add a method greet() that prints \"Hello, my name is\n",
        "#    {name} and I am {age} years old.\"\n",
        "\n",
        "class Person:\n",
        "    def __init__(self, name, age):\n",
        "        self.name = name\n",
        "        self.age = age\n",
        "\n",
        "    def greet(self):\n",
        "        print(f\"Hello, my name is {self.name} and I am {self.age} years old.\")\n",
        "\n",
        "# Example usage\n",
        "person1 = Person(\"Alice\", 25)\n",
        "person2 = Person(\"Bob\", 30)\n",
        "\n",
        "person1.greet()  # Output: Hello, my name is Alice and I am 25 years old.\n",
        "person2.greet()  # Output: Hello, my name is Bob and I am 30 years old.\n"
      ],
      "metadata": {
        "colab": {
          "base_uri": "https://localhost:8080/"
        },
        "id": "nCmlNTJV8Pb7",
        "outputId": "a6dabdc1-9a43-4733-cb4b-bb29e1c0085a"
      },
      "execution_count": 21,
      "outputs": [
        {
          "output_type": "stream",
          "name": "stdout",
          "text": [
            "Hello, my name is Alice and I am 25 years old.\n",
            "Hello, my name is Bob and I am 30 years old.\n"
          ]
        }
      ]
    },
    {
      "cell_type": "code",
      "source": [
        "# 12.  Implement a class Student with attributes name and grades. Create a method average_grade() to compute\n",
        "#      the average of the grades.\n",
        "\n",
        "class Student:\n",
        "    def __init__(self, name, grades):\n",
        "        self.name = name\n",
        "        self.grades = grades  # List of grades\n",
        "\n",
        "    def average_grade(self):\n",
        "        if len(self.grades) == 0:\n",
        "            return 0  # Avoid division by zero\n",
        "        return sum(self.grades) / len(self.grades)\n",
        "\n",
        "# Example usage\n",
        "student1 = Student(\"Alice\", [85, 90, 78, 92])\n",
        "student2 = Student(\"Bob\", [70, 75, 80])\n",
        "\n",
        "print(f\"{student1.name}'s average grade: {student1.average_grade():.2f}\")\n",
        "print(f\"{student2.name}'s average grade: {student2.average_grade():.2f}\")\n"
      ],
      "metadata": {
        "colab": {
          "base_uri": "https://localhost:8080/"
        },
        "id": "s_4PUf-R8fNy",
        "outputId": "bfb2f497-2dc3-4172-847a-d28dcb7d54b8"
      },
      "execution_count": 23,
      "outputs": [
        {
          "output_type": "stream",
          "name": "stdout",
          "text": [
            "Alice's average grade: 86.25\n",
            "Bob's average grade: 75.00\n"
          ]
        }
      ]
    },
    {
      "cell_type": "code",
      "source": [
        "# 13. Create a class Rectangle with methods set_dimensions() to set the dimensions and area() to calculate the area.\n",
        "\n",
        "class Rectangle:\n",
        "    def __init__(self):\n",
        "        self.length = 0\n",
        "        self.width = 0\n",
        "\n",
        "    def set_dimensions(self, length, width):\n",
        "        self.length = length\n",
        "        self.width = width\n",
        "        print(f\"Dimensions set: Length = {self.length}, Width = {self.width}\")\n",
        "\n",
        "    def area(self):\n",
        "        return self.length * self.width\n",
        "\n",
        "# Example usage\n",
        "rect = Rectangle()\n",
        "rect.set_dimensions(5, 10)  # Set dimensions of the rectangle\n",
        "print(f\"Area of the rectangle: {rect.area()}\")  # Calculate and print the area\n"
      ],
      "metadata": {
        "colab": {
          "base_uri": "https://localhost:8080/"
        },
        "id": "sg3MVQG89AqW",
        "outputId": "ddd01bbc-2e3c-4a2e-ba52-dc5f9bb74adc"
      },
      "execution_count": 25,
      "outputs": [
        {
          "output_type": "stream",
          "name": "stdout",
          "text": [
            "Dimensions set: Length = 5, Width = 10\n",
            "Area of the rectangle: 50\n"
          ]
        }
      ]
    },
    {
      "cell_type": "code",
      "source": [
        "# 14.  Create a class Employee with a method calculate_salary() that computes the salary based on hours worked\n",
        "#      and hourly rate. Create a derived class Manager that adds a bonus to the salary.\n",
        "\n",
        "\n",
        "class Employee:\n",
        "    def __init__(self, name, hourly_rate):\n",
        "        self.name = name\n",
        "        self.hourly_rate = hourly_rate\n",
        "\n",
        "    def calculate_salary(self, hours_worked):\n",
        "        salary = self.hourly_rate * hours_worked\n",
        "        return salary\n",
        "\n",
        "class Manager(Employee):\n",
        "    def __init__(self, name, hourly_rate, bonus):\n",
        "        super().__init__(name, hourly_rate)\n",
        "        self.bonus = bonus\n",
        "\n",
        "    def calculate_salary(self, hours_worked):\n",
        "        base_salary = super().calculate_salary(hours_worked)\n",
        "        total_salary = base_salary + self.bonus\n",
        "        return total_salary\n",
        "\n",
        "# Example usage\n",
        "employee = Employee(\"Alice\", 20)  # Hourly rate is 20\n",
        "manager = Manager(\"Bob\", 30, 500)  # Hourly rate is 30, bonus is 500\n",
        "\n",
        "print(f\"{employee.name}'s salary: {employee.calculate_salary(40)}\")  # 40 hours worked\n",
        "print(f\"{manager.name}'s salary: {manager.calculate_salary(40)}\")  # 40 hours worked\n"
      ],
      "metadata": {
        "colab": {
          "base_uri": "https://localhost:8080/"
        },
        "id": "m_d2bd_L9Qgg",
        "outputId": "a930a070-be7e-49c0-9f11-60c8e48b882f"
      },
      "execution_count": 27,
      "outputs": [
        {
          "output_type": "stream",
          "name": "stdout",
          "text": [
            "Alice's salary: 800\n",
            "Bob's salary: 1700\n"
          ]
        }
      ]
    },
    {
      "cell_type": "code",
      "source": [
        "# 15.  Create a class Product with attributes name, price, and quantity. Implement a method total_price() that\n",
        "#      calculates the total price of the product\n",
        "\n",
        "\n",
        "class Product:\n",
        "    def __init__(self, name, price, quantity):\n",
        "        self.name = name\n",
        "        self.price = price\n",
        "        self.quantity = quantity\n",
        "\n",
        "    def total_price(self):\n",
        "        return self.price * self.quantity\n",
        "\n",
        "# Example usage\n",
        "product1 = Product(\"Laptop\", 50000, 2)\n",
        "product2 = Product(\"Smartphone\", 30000, 3)\n",
        "\n",
        "print(f\"Total price for {product1.name}: {product1.total_price()}\")\n",
        "print(f\"Total price for {product2.name}: {product2.total_price()}\")\n"
      ],
      "metadata": {
        "colab": {
          "base_uri": "https://localhost:8080/"
        },
        "id": "XIrzUoDE9w4L",
        "outputId": "77127b92-5a79-4ec3-805c-b412cfc6ac1f"
      },
      "execution_count": 29,
      "outputs": [
        {
          "output_type": "stream",
          "name": "stdout",
          "text": [
            "Total price for Laptop: 100000\n",
            "Total price for Smartphone: 90000\n"
          ]
        }
      ]
    },
    {
      "cell_type": "code",
      "source": [
        "# 16. Create a class Animal with an abstract method sound(). Create two derived classes Cow and Sheep that\n",
        "#     implement the sound() method.\n",
        "\n",
        "\n",
        "from abc import ABC, abstractmethod\n",
        "\n",
        "class Animal(ABC):\n",
        "    @abstractmethod\n",
        "    def sound(self):\n",
        "        pass\n",
        "\n",
        "class Cow(Animal):\n",
        "    def sound(self):\n",
        "        return \"Moo\"\n",
        "\n",
        "class Sheep(Animal):\n",
        "    def sound(self):\n",
        "        return \"Baa\"\n",
        "\n",
        "# Example usage\n",
        "cow = Cow()\n",
        "sheep = Sheep()\n",
        "\n",
        "print(f\"The cow says: {cow.sound()}\")\n",
        "print(f\"The sheep says: {sheep.sound()}\")\n"
      ],
      "metadata": {
        "colab": {
          "base_uri": "https://localhost:8080/"
        },
        "id": "XNVsoUXG-C5d",
        "outputId": "66828f05-ae59-46d3-d87d-f94dc5258e2f"
      },
      "execution_count": 31,
      "outputs": [
        {
          "output_type": "stream",
          "name": "stdout",
          "text": [
            "The cow says: Moo\n",
            "The sheep says: Baa\n"
          ]
        }
      ]
    },
    {
      "cell_type": "code",
      "source": [
        "# 17. Create a class Book with attributes title, author, and year_published. Add a method get_book_info() that\n",
        "#     returns a formatted string with the book's details\n",
        "\n",
        "class Book:\n",
        "    def __init__(self, title, author, year_published):\n",
        "        self.title = title\n",
        "        self.author = author\n",
        "        self.year_published = year_published\n",
        "\n",
        "    def get_book_info(self):\n",
        "        return f\"'{self.title}' by {self.author}, published in {self.year_published}\"\n",
        "\n",
        "# Example usage\n",
        "book1 = Book(\"To Kill a Mockingbird\", \"Harper Lee\", 1960)\n",
        "book2 = Book(\"1984\", \"George Orwell\", 1949)\n",
        "\n",
        "print(book1.get_book_info())  # Output: 'To Kill a Mockingbird' by Harper Lee, published in 1960\n",
        "print(book2.get_book_info())  # Output: '1984' by George Orwell, published in 1949\n"
      ],
      "metadata": {
        "colab": {
          "base_uri": "https://localhost:8080/"
        },
        "id": "zy6zq4sn-OX7",
        "outputId": "1475cfb3-6928-4e60-b79e-d49cd0c75395"
      },
      "execution_count": 33,
      "outputs": [
        {
          "output_type": "stream",
          "name": "stdout",
          "text": [
            "'To Kill a Mockingbird' by Harper Lee, published in 1960\n",
            "'1984' by George Orwell, published in 1949\n"
          ]
        }
      ]
    },
    {
      "cell_type": "code",
      "source": [
        "# 18. Create a class House with attributes address and price. Create a derived class Mansion that adds an\n",
        "#     attribute number_of_rooms.\n",
        "\n",
        "\n",
        "class House:\n",
        "    def __init__(self, address, price):\n",
        "        self.address = address\n",
        "        self.price = price\n",
        "\n",
        "    def display_info(self):\n",
        "        return f\"Address: {self.address}, Price: {self.price}\"\n",
        "\n",
        "class Mansion(House):\n",
        "    def __init__(self, address, price, number_of_rooms):\n",
        "        super().__init__(address, price)\n",
        "        self.number_of_rooms = number_of_rooms\n",
        "\n",
        "    def display_info(self):\n",
        "        return f\"Address: {self.address}, Price: {self.price}, Number of Rooms: {self.number_of_rooms}\"\n",
        "\n",
        "# Example usage\n",
        "house = House(\"123 Main St\", 500000)\n",
        "mansion = Mansion(\"456 Luxury Lane\", 2000000, 10)\n",
        "\n",
        "print(house.display_info())  # Output: Address: 123 Main St, Price: 500000\n",
        "print(mansion.display_info())  # Output: Address: 456 Luxury Lane, Price: 2000000, Number of Rooms: 10\n"
      ],
      "metadata": {
        "colab": {
          "base_uri": "https://localhost:8080/"
        },
        "id": "aL7iCv9U-d36",
        "outputId": "d44e9495-a0df-4168-fadf-65828040a68c"
      },
      "execution_count": 34,
      "outputs": [
        {
          "output_type": "stream",
          "name": "stdout",
          "text": [
            "Address: 123 Main St, Price: 500000\n",
            "Address: 456 Luxury Lane, Price: 2000000, Number of Rooms: 10\n"
          ]
        }
      ]
    }
  ]
}